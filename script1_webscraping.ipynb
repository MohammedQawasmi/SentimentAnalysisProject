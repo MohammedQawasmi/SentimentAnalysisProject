{
 "cells": [
  {
   "cell_type": "markdown",
   "metadata": {},
   "source": [
    "# Amazon Reviews Webscraper"
   ]
  },
  {
   "cell_type": "markdown",
   "metadata": {},
   "source": [
    "### Imports"
   ]
  },
  {
   "cell_type": "code",
   "execution_count": 1,
   "metadata": {},
   "outputs": [],
   "source": [
    "from bs4 import BeautifulSoup\n",
    "import time \n",
    "import pandas as pd\n",
    "import requests\n",
    "from selenium import webdriver"
   ]
  },
  {
   "cell_type": "code",
   "execution_count": 2,
   "metadata": {},
   "outputs": [],
   "source": [
    "from selenium.webdriver.common.by import By"
   ]
  },
  {
   "cell_type": "markdown",
   "metadata": {},
   "source": [
    "### Web Scraper"
   ]
  },
  {
   "cell_type": "code",
   "execution_count": 5,
   "metadata": {},
   "outputs": [],
   "source": [
    "test_url = 'https://www.amazon.com/48-Laws-Power-Robert-Greene/product-reviews/0140280197/ref=cm_cr_getr_d_paging_btm_prev_1?ie=UTF8&reviewerType=all_reviews&pageNumber=1'"
   ]
  },
  {
   "cell_type": "code",
   "execution_count": 13,
   "metadata": {},
   "outputs": [],
   "source": [
    "for i in range(1,101):\n",
    "    \n",
    "    page_number = str(i)\n",
    "    prev_page = str(i - 1)\n",
    "    tst_url = f'https://www.amazon.com/48-Laws-Power-Robert-Greene/product-reviews/0140280197/ref=cm_cr_getr_d_paging_btm_prev_{prev_page}?ie=UTF8&reviewerType=all_reviews&pageNumber={page_number}'\n",
    "\n",
    "    driver = webdriver.Edge()\n",
    "\n",
    "    driver.get(tst_url)\n",
    "\n",
    "    time.sleep(2)\n",
    "\n",
    "    with open(f\"48lawsofpower\\{page_number}.html\", 'w') as file:\n",
    "        file.write(driver.page_source)\n"
   ]
  }
 ],
 "metadata": {
  "kernelspec": {
   "display_name": "Python 3.9.7 ('webscraping')",
   "language": "python",
   "name": "python3"
  },
  "language_info": {
   "codemirror_mode": {
    "name": "ipython",
    "version": 3
   },
   "file_extension": ".py",
   "mimetype": "text/x-python",
   "name": "python",
   "nbconvert_exporter": "python",
   "pygments_lexer": "ipython3",
   "version": "3.9.7"
  },
  "orig_nbformat": 4,
  "vscode": {
   "interpreter": {
    "hash": "cf1efb9af4de9bade5a80b3f168d028f859726583ad5c29cdb09c81ec60c9dd4"
   }
  }
 },
 "nbformat": 4,
 "nbformat_minor": 2
}
