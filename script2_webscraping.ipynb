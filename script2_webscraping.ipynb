{
 "cells": [
  {
   "cell_type": "markdown",
   "metadata": {},
   "source": [
    "# Parsing Html"
   ]
  },
  {
   "cell_type": "markdown",
   "metadata": {},
   "source": [
    "### imports"
   ]
  },
  {
   "cell_type": "code",
   "execution_count": 139,
   "metadata": {},
   "outputs": [],
   "source": [
    "from bs4 import BeautifulSoup\n",
    "import requests\n",
    "import csv\n",
    "import os"
   ]
  },
  {
   "cell_type": "code",
   "execution_count": null,
   "metadata": {},
   "outputs": [],
   "source": [
    "with open('48lawsofpower\\\\1.html') as html_file:\n",
    "    soup = BeautifulSoup(html_file, 'lxml')\n",
    "print(soup.prettify())"
   ]
  },
  {
   "cell_type": "code",
   "execution_count": 6,
   "metadata": {},
   "outputs": [],
   "source": [
    "review = soup.find('div', class_='a-section celwidget')"
   ]
  },
  {
   "cell_type": "code",
   "execution_count": null,
   "metadata": {},
   "outputs": [],
   "source": [
    "print(review.prettify())"
   ]
  },
  {
   "cell_type": "markdown",
   "metadata": {},
   "source": [
    "## what we want?\n",
    "* Username\n",
    "* Review text\n",
    "* Review star count\n",
    "* Review date"
   ]
  },
  {
   "cell_type": "markdown",
   "metadata": {},
   "source": [
    "### ------------------------------------------------"
   ]
  },
  {
   "cell_type": "markdown",
   "metadata": {},
   "source": [
    "## Extracting the username"
   ]
  },
  {
   "cell_type": "code",
   "execution_count": 11,
   "metadata": {},
   "outputs": [
    {
     "name": "stdout",
     "output_type": "stream",
     "text": [
      "PingJockey\n"
     ]
    }
   ],
   "source": [
    "username = review.find('div',class_='a-profile-content')\n",
    "print(username.text)"
   ]
  },
  {
   "cell_type": "markdown",
   "metadata": {},
   "source": [
    "## Extracting the Review text"
   ]
  },
  {
   "cell_type": "code",
   "execution_count": 12,
   "metadata": {},
   "outputs": [
    {
     "name": "stdout",
     "output_type": "stream",
     "text": [
      "\n",
      "This book has controversy, but most of it stems from reviewers that believe all people are good inside and unicorns deliver their vegan low fat cappuccino with cream. Well, most people aren't kind, and this book prepared me for reality. It doesn't teach one to be self absorbed or evil or a heretic. It teaches one to stand your ground and to protect yourself from taking unnecessary burden, unfair treatment, and manipulation from corrupt people.\n",
      "\n"
     ]
    }
   ],
   "source": [
    "review_text = review.find('div', class_='a-row a-spacing-small review-data')\n",
    "print(review_text.text)"
   ]
  },
  {
   "cell_type": "markdown",
   "metadata": {},
   "source": [
    "## Extracting Review star count"
   ]
  },
  {
   "cell_type": "code",
   "execution_count": 21,
   "metadata": {},
   "outputs": [
    {
     "name": "stdout",
     "output_type": "stream",
     "text": [
      "5.0 out of 5 stars\n"
     ]
    }
   ],
   "source": [
    "star_count = review.find('span', class_='a-icon-alt')\n",
    "print(star_count.text)"
   ]
  },
  {
   "cell_type": "markdown",
   "metadata": {},
   "source": [
    "## Extracting the Review Date"
   ]
  },
  {
   "cell_type": "code",
   "execution_count": 32,
   "metadata": {},
   "outputs": [
    {
     "name": "stdout",
     "output_type": "stream",
     "text": [
      "Reviewed in the United States on August 18, 2018\n"
     ]
    }
   ],
   "source": [
    "review_date = review.find('span', class_='a-size-base a-color-secondary review-date')\n",
    "print(review_date.text)\n",
    "\n"
   ]
  },
  {
   "cell_type": "markdown",
   "metadata": {},
   "source": [
    "we want to go through every html file we parsed to get all the stuff"
   ]
  },
  {
   "cell_type": "code",
   "execution_count": 141,
   "metadata": {},
   "outputs": [],
   "source": [
    "files = os.listdir('48lawsofpower')"
   ]
  },
  {
   "cell_type": "markdown",
   "metadata": {},
   "source": [
    "\n",
    " Now we want combine all of this code into a for loop to get all reviews"
   ]
  },
  {
   "cell_type": "code",
   "execution_count": null,
   "metadata": {},
   "outputs": [],
   "source": [
    "csv_file = open('bookreview.csv','w')\n",
    "csv_writer = csv.writer(csv_file)\n",
    "csv_writer.writerow(['UserName','StarCount','ReviewText','Date'])\n",
    "\n",
    "for file in files:\n",
    "    with open(f'48lawsofpower\\\\{file}') as html_file:\n",
    "        soup = BeautifulSoup(html_file, 'lxml')\n",
    "\n",
    "    \n",
    "    for reviews in soup.find_all('div', class_='a-section celwidget'):\n",
    "\n",
    "        username = reviews.find('div',class_='a-profile-content').text\n",
    "        print(username)\n",
    "\n",
    "        star_count = reviews.find('span', class_='a-icon-alt').text\n",
    "        print(star_count)\n",
    "\n",
    "        review_text = reviews.find('div', class_='a-row a-spacing-small review-data').text\n",
    "        print(review_text)\n",
    "\n",
    "        review_date = reviews.find('span', class_='a-size-base a-color-secondary review-date').text\n",
    "        print(review_date)\n",
    "\n",
    "        csv_writer.writerow([username,star_count,review_text,review_date])\n",
    "\n",
    "csv_file.close()\n",
    "    "
   ]
  }
 ],
 "metadata": {
  "kernelspec": {
   "display_name": "Python 3.9.7 ('webscraping')",
   "language": "python",
   "name": "python3"
  },
  "language_info": {
   "codemirror_mode": {
    "name": "ipython",
    "version": 3
   },
   "file_extension": ".py",
   "mimetype": "text/x-python",
   "name": "python",
   "nbconvert_exporter": "python",
   "pygments_lexer": "ipython3",
   "version": "3.9.7"
  },
  "orig_nbformat": 4,
  "vscode": {
   "interpreter": {
    "hash": "cf1efb9af4de9bade5a80b3f168d028f859726583ad5c29cdb09c81ec60c9dd4"
   }
  }
 },
 "nbformat": 4,
 "nbformat_minor": 2
}
